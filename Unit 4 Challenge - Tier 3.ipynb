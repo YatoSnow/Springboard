{
 "cells": [
  {
   "cell_type": "markdown",
   "metadata": {
    "colab_type": "text",
    "id": "Tia3MP1SJpgj"
   },
   "source": [
    "# Springboard Data Science Career Track Unit 4 Challenge - Tier 3 Complete\n",
    "\n",
    "## Objectives\n",
    "Hey! Great job getting through those challenging DataCamp courses. You're learning a lot in a short span of time. \n",
    "\n",
    "In this notebook, you're going to apply the skills you've been learning, bridging the gap between the controlled environment of DataCamp and the *slightly* messier work that data scientists do with actual datasets!\n",
    "\n",
    "Here’s the mystery we’re going to solve: ***which boroughs of London have seen the greatest increase in housing prices, on average, over the last two decades?***\n",
    "\n",
    "\n",
    "A borough is just a fancy word for district. You may be familiar with the five boroughs of New York… well, there are 32 boroughs within Greater London [(here's some info for the curious)](https://en.wikipedia.org/wiki/London_boroughs). Some of them are more desirable areas to live in, and the data will reflect that with a greater rise in housing prices.\n",
    "\n",
    "***This is the Tier 3 notebook, which means it's not filled in at all: we'll just give you the skeleton of a project, the brief and the data. It's up to you to play around with it and see what you can find out! Good luck! If you struggle, feel free to look at easier tiers for help; but try to dip in and out of them, as the more independent work you do, the better it is for your learning!***\n",
    "\n",
    "This challenge will make use of only what you learned in the following DataCamp courses: \n",
    "- Prework courses (Introduction to Python for Data Science, Intermediate Python for Data Science)\n",
    "- Data Types for Data Science\n",
    "- Python Data Science Toolbox (Part One) \n",
    "- pandas Foundations\n",
    "- Manipulating DataFrames with pandas\n",
    "- Merging DataFrames with pandas\n",
    "\n",
    "Of the tools, techniques and concepts in the above DataCamp courses, this challenge should require the application of the following: \n",
    "- **pandas**\n",
    "    - **data ingestion and inspection** (pandas Foundations, Module One) \n",
    "    - **exploratory data analysis** (pandas Foundations, Module Two)\n",
    "    - **tidying and cleaning** (Manipulating DataFrames with pandas, Module Three) \n",
    "    - **transforming DataFrames** (Manipulating DataFrames with pandas, Module One)\n",
    "    - **subsetting DataFrames with lists** (Manipulating DataFrames with pandas, Module One) \n",
    "    - **filtering DataFrames** (Manipulating DataFrames with pandas, Module One) \n",
    "    - **grouping data** (Manipulating DataFrames with pandas, Module Four) \n",
    "    - **melting data** (Manipulating DataFrames with pandas, Module Three) \n",
    "    - **advanced indexing** (Manipulating DataFrames with pandas, Module Four) \n",
    "- **matplotlib** (Intermediate Python for Data Science, Module One)\n",
    "- **fundamental data types** (Data Types for Data Science, Module One) \n",
    "- **dictionaries** (Intermediate Python for Data Science, Module Two)\n",
    "- **handling dates and times** (Data Types for Data Science, Module Four)\n",
    "- **function definition** (Python Data Science Toolbox - Part One, Module One)\n",
    "- **default arguments, variable length, and scope** (Python Data Science Toolbox - Part One, Module Two) \n",
    "- **lambda functions and error handling** (Python Data Science Toolbox - Part One, Module Four) "
   ]
  },
  {
   "cell_type": "markdown",
   "metadata": {
    "colab_type": "text",
    "id": "Ipgd2nV8Jpgl"
   },
   "source": [
    "## The Data Science Pipeline\n",
    "\n",
    "This is Tier Three, so we'll get you started. But after that, it's all in your hands! When you feel done with your investigations, look back over what you've accomplished, and prepare a quick presentation of your findings for the next mentor meeting. \n",
    "\n",
    "Data Science is magical. In this case study, you'll get to apply some complex machine learning algorithms. But as  [David Spiegelhalter](https://www.youtube.com/watch?v=oUs1uvsz0Ok) reminds us, there is no substitute for simply **taking a really, really good look at the data.** Sometimes, this is all we need to answer our question.\n",
    "\n",
    "Data Science projects generally adhere to the four stages of Data Science Pipeline:\n",
    "1. Sourcing and loading \n",
    "2. Cleaning, transforming, and visualizing \n",
    "3. Modeling \n",
    "4. Evaluating and concluding \n"
   ]
  },
  {
   "cell_type": "markdown",
   "metadata": {
    "colab_type": "text",
    "id": "zswDqbefJpgm"
   },
   "source": [
    "### 1. Sourcing and Loading \n",
    "\n",
    "Any Data Science project kicks off by importing  ***pandas***. The documentation of this wonderful library can be found [here](https://pandas.pydata.org/). As you've seen, pandas is conveniently connected to the [Numpy](http://www.numpy.org/) and [Matplotlib](https://matplotlib.org/) libraries. \n",
    "\n",
    "***Hint:*** This part of the data science pipeline will test those skills you acquired in the pandas Foundations course, Module One. "
   ]
  },
  {
   "cell_type": "markdown",
   "metadata": {
    "colab_type": "text",
    "id": "aEau5nEvJpgm"
   },
   "source": [
    "#### 1.1. Importing Libraries"
   ]
  },
  {
   "cell_type": "code",
   "execution_count": 3,
   "metadata": {
    "colab": {},
    "colab_type": "code",
    "id": "7Bt_Q_oPJpgn"
   },
   "outputs": [
    {
     "name": "stdout",
     "output_type": "stream",
     "text": [
      "Merhaba!\n"
     ]
    }
   ],
   "source": [
    "# Let's import the pandas, numpy libraries as pd, and np respectively. \n",
    "import pandas as pd\n",
    "import numpy as np\n",
    "\n",
    "# Load the pyplot collection of functions from matplotlib, as plt \n",
    "import matplotlib.pyplot as plt\n",
    "\n",
    "\n"
   ]
  },
  {
   "cell_type": "markdown",
   "metadata": {
    "colab_type": "text",
    "id": "koUrawxsJpgq"
   },
   "source": [
    "#### 1.2.  Loading the data\n",
    "Your data comes from the [London Datastore](https://data.london.gov.uk/): a free, open-source data-sharing portal for London-oriented datasets. "
   ]
  },
  {
   "cell_type": "code",
   "execution_count": 5,
   "metadata": {
    "colab": {},
    "colab_type": "code",
    "id": "AiLiD4v3Jpgr"
   },
   "outputs": [],
   "source": [
    "# First, make a variable called url_LondonHousePrices, and assign it the following link, enclosed in quotation-marks as a string:\n",
    "# https://data.london.gov.uk/download/uk-house-price-index/70ac0766-8902-4eb5-aab5-01951aaed773/UK%20House%20price%20index.xls\n",
    "\n",
    "url_LondonHousePrices= \"https://data.london.gov.uk/download/uk-house-price-index/70ac0766-8902-4eb5-aab5-01951aaed773/UK%20House%20price%20index.xls\"\n",
    "\n",
    "# The dataset we're interested in contains the Average prices of the houses, and is actually on a particular sheet of the Excel file. \n",
    "# As a result, we need to specify the sheet name in the read_excel() method.\n",
    "# Put this data into a variable called properties.  \n",
    "properties = pd.read_excel(url_LondonHousePrices, sheet_name='Average price', index_col= None)"
   ]
  },
  {
   "cell_type": "markdown",
   "metadata": {
    "colab_type": "text",
    "id": "POukEJXgJpgu"
   },
   "source": [
    "### 2. Cleaning, transforming, and visualizing\n",
    "This second stage is arguably the most important part of any Data Science project. The first thing to do is take a proper look at the data. Cleaning forms the majority of this stage, and can be done both before or after Transformation.\n",
    "\n",
    "The end goal of data cleaning is to have tidy data. When data is tidy: \n",
    "\n",
    "1. Each variable has a column.\n",
    "2. Each observation forms a row.\n",
    "\n",
    "Keep the end goal in mind as you move through this process, every step will take you closer. \n",
    "\n",
    "\n",
    "\n",
    "***Hint:*** This part of the data science pipeline should test those skills you acquired in: \n",
    "- Intermediate Python for data science, all modules.\n",
    "- pandas Foundations, all modules. \n",
    "- Manipulating DataFrames with pandas, all modules.\n",
    "- Data Types for Data Science, Module Four.\n",
    "- Python Data Science Toolbox - Part One, all modules"
   ]
  },
  {
   "cell_type": "markdown",
   "metadata": {
    "colab_type": "text",
    "id": "Te0Q548tnzZa"
   },
   "source": [
    "**2.1. Exploring your data** \n",
    "\n",
    "Think about your pandas functions for checking out a dataframe. "
   ]
  },
  {
   "cell_type": "code",
   "execution_count": 9,
   "metadata": {
    "colab": {},
    "colab_type": "code",
    "id": "Rxirxw_qoAJa"
   },
   "outputs": [
    {
     "name": "stdout",
     "output_type": "stream",
     "text": [
      "(365, 49)\n",
      "  Unnamed: 0 City of London Barking & Dagenham     Barnet     Bexley  \\\n",
      "0        NaT      E09000001          E09000002  E09000003  E09000004   \n",
      "1 1995-01-01          90347              51870      98948      64956   \n",
      "2 1995-02-01          81213              52513      98848      64786   \n",
      "3 1995-03-01          78168              52701      97848      64366   \n",
      "4 1995-04-01          76172              54618      96273      64276   \n",
      "\n",
      "       Brent    Bromley     Camden    Croydon     Ealing  ... NORTH WEST  \\\n",
      "0  E09000005  E09000006  E09000007  E09000008  E09000009  ...  E12000002   \n",
      "1      76880      83082     119775      70118      85469  ...      40907   \n",
      "2      77651      83068     118365      69908      86551  ...      40877   \n",
      "3      77644      82856     119131      69666      87067  ...      41351   \n",
      "4      78668      82525     118948      69562      87933  ...      41195   \n",
      "\n",
      "  YORKS & THE HUMBER EAST MIDLANDS WEST MIDLANDS EAST OF ENGLAND     LONDON  \\\n",
      "0          E12000003     E12000004     E12000005       E12000006  E12000007   \n",
      "1              42171         43856         46470           56098      79687   \n",
      "2              41912         44344         47249           55991      77913   \n",
      "3              42544         43701         47345           55574      79110   \n",
      "4              42934         44414         47359           55966      79708   \n",
      "\n",
      "  SOUTH EAST SOUTH WEST Unnamed: 47    England  \n",
      "0  E12000008  E12000009         NaN  E92000001  \n",
      "1      64502      52799         NaN      50231  \n",
      "2      64196      52462         NaN      50130  \n",
      "3      64597      51716         NaN      50229  \n",
      "4      65111      52877         NaN      50597  \n",
      "\n",
      "[5 rows x 49 columns]\n",
      "Index(['Unnamed: 0', 'City of London', 'Barking & Dagenham', 'Barnet',\n",
      "       'Bexley', 'Brent', 'Bromley', 'Camden', 'Croydon', 'Ealing', 'Enfield',\n",
      "       'Greenwich', 'Hackney', 'Hammersmith & Fulham', 'Haringey', 'Harrow',\n",
      "       'Havering', 'Hillingdon', 'Hounslow', 'Islington',\n",
      "       'Kensington & Chelsea', 'Kingston upon Thames', 'Lambeth', 'Lewisham',\n",
      "       'Merton', 'Newham', 'Redbridge', 'Richmond upon Thames', 'Southwark',\n",
      "       'Sutton', 'Tower Hamlets', 'Waltham Forest', 'Wandsworth',\n",
      "       'Westminster', 'Unnamed: 34', 'Inner London', 'Outer London',\n",
      "       'Unnamed: 37', 'NORTH EAST', 'NORTH WEST', 'YORKS & THE HUMBER',\n",
      "       'EAST MIDLANDS', 'WEST MIDLANDS', 'EAST OF ENGLAND', 'LONDON',\n",
      "       'SOUTH EAST', 'SOUTH WEST', 'Unnamed: 47', 'England'],\n",
      "      dtype='object')\n",
      "Unnamed: 0              datetime64[ns]\n",
      "City of London                  object\n",
      "Barking & Dagenham              object\n",
      "Barnet                          object\n",
      "Bexley                          object\n",
      "Brent                           object\n",
      "Bromley                         object\n",
      "Camden                          object\n",
      "Croydon                         object\n",
      "Ealing                          object\n",
      "Enfield                         object\n",
      "Greenwich                       object\n",
      "Hackney                         object\n",
      "Hammersmith & Fulham            object\n",
      "Haringey                        object\n",
      "Harrow                          object\n",
      "Havering                        object\n",
      "Hillingdon                      object\n",
      "Hounslow                        object\n",
      "Islington                       object\n",
      "Kensington & Chelsea            object\n",
      "Kingston upon Thames            object\n",
      "Lambeth                         object\n",
      "Lewisham                        object\n",
      "Merton                          object\n",
      "Newham                          object\n",
      "Redbridge                       object\n",
      "Richmond upon Thames            object\n",
      "Southwark                       object\n",
      "Sutton                          object\n",
      "Tower Hamlets                   object\n",
      "Waltham Forest                  object\n",
      "Wandsworth                      object\n",
      "Westminster                     object\n",
      "Unnamed: 34                    float64\n",
      "Inner London                    object\n",
      "Outer London                    object\n",
      "Unnamed: 37                    float64\n",
      "NORTH EAST                      object\n",
      "NORTH WEST                      object\n",
      "YORKS & THE HUMBER              object\n",
      "EAST MIDLANDS                   object\n",
      "WEST MIDLANDS                   object\n",
      "EAST OF ENGLAND                 object\n",
      "LONDON                          object\n",
      "SOUTH EAST                      object\n",
      "SOUTH WEST                      object\n",
      "Unnamed: 47                    float64\n",
      "England                         object\n",
      "dtype: object\n"
     ]
    }
   ],
   "source": [
    "print(properties.shape)\n",
    "print(properties.head())\n",
    "print(properties.columns)\n",
    "print(properties.dtypes)"
   ]
  },
  {
   "cell_type": "markdown",
   "metadata": {
    "colab_type": "text",
    "id": "tE9Sqt9-oAta"
   },
   "source": [
    "**2.2. Cleaning the data**\n",
    "\n",
    "You might find you need to transpose your dataframe, check out what its row indexes are, and reset the index. You  also might find you need to assign the values of the first row to your column headings  . (Hint: recall the .columns feature of DataFrames, as well as the iloc[] method).\n",
    "\n",
    "Don't be afraid to use StackOverflow for help  with this."
   ]
  },
  {
   "cell_type": "code",
   "execution_count": 13,
   "metadata": {
    "colab": {},
    "colab_type": "code",
    "id": "cdAu1A3YoH_r"
   },
   "outputs": [
    {
     "name": "stdout",
     "output_type": "stream",
     "text": [
      "                          0                    1                    2    \\\n",
      "Unnamed: 0                NaT  1995-01-01 00:00:00  1995-02-01 00:00:00   \n",
      "City of London      E09000001                90347                81213   \n",
      "Barking & Dagenham  E09000002                51870                52513   \n",
      "Barnet              E09000003                98948                98848   \n",
      "Bexley              E09000004                64956                64786   \n",
      "\n",
      "                                    3                    4    \\\n",
      "Unnamed: 0          1995-03-01 00:00:00  1995-04-01 00:00:00   \n",
      "City of London                    78168                76172   \n",
      "Barking & Dagenham                52701                54618   \n",
      "Barnet                            97848                96273   \n",
      "Bexley                            64366                64276   \n",
      "\n",
      "                                    5                    6    \\\n",
      "Unnamed: 0          1995-05-01 00:00:00  1995-06-01 00:00:00   \n",
      "City of London                    83392                93757   \n",
      "Barking & Dagenham                54524                55200   \n",
      "Barnet                            95737                95577   \n",
      "Bexley                            63995                64251   \n",
      "\n",
      "                                    7                    8    \\\n",
      "Unnamed: 0          1995-07-01 00:00:00  1995-08-01 00:00:00   \n",
      "City of London                   108801               110976   \n",
      "Barking & Dagenham                53569                53691   \n",
      "Barnet                            96992                97968   \n",
      "Bexley                            63721                64431   \n",
      "\n",
      "                                    9    ...                  355  \\\n",
      "Unnamed: 0          1995-09-01 00:00:00  ...  2024-07-01 00:00:00   \n",
      "City of London                   103215  ...               782682   \n",
      "Barking & Dagenham                52909  ...               334357   \n",
      "Barnet                            98936  ...               624302   \n",
      "Bexley                            64508  ...               399092   \n",
      "\n",
      "                                    356                  357  \\\n",
      "Unnamed: 0          2024-08-01 00:00:00  2024-09-01 00:00:00   \n",
      "City of London                   765271               763932   \n",
      "Barking & Dagenham               332915               339472   \n",
      "Barnet                           627190               625561   \n",
      "Bexley                           404250               406350   \n",
      "\n",
      "                                    358                  359  \\\n",
      "Unnamed: 0          2024-10-01 00:00:00  2024-11-01 00:00:00   \n",
      "City of London                   748800               736841   \n",
      "Barking & Dagenham               349612               354449   \n",
      "Barnet                           629238               633595   \n",
      "Bexley                           408198               406049   \n",
      "\n",
      "                                    360                  361  \\\n",
      "Unnamed: 0          2024-12-01 00:00:00  2025-01-01 00:00:00   \n",
      "City of London                   785993               772480   \n",
      "Barking & Dagenham               355447               353651   \n",
      "Barnet                           629215               615441   \n",
      "Bexley                           403106               404307   \n",
      "\n",
      "                                    362                  363  \\\n",
      "Unnamed: 0          2025-02-01 00:00:00  2025-03-01 00:00:00   \n",
      "City of London                   758503               722024   \n",
      "Barking & Dagenham               363738               372439   \n",
      "Barnet                           607611               605396   \n",
      "Bexley                           407169               408404   \n",
      "\n",
      "                                    364  \n",
      "Unnamed: 0          2025-04-01 00:00:00  \n",
      "City of London                   771818  \n",
      "Barking & Dagenham               374552  \n",
      "Barnet                           598402  \n",
      "Bexley                           401907  \n",
      "\n",
      "[5 rows x 365 columns]\n",
      "                index          0                    1                    2  \\\n",
      "0          Unnamed: 0        NaT  1995-01-01 00:00:00  1995-02-01 00:00:00   \n",
      "1      City of London  E09000001                90347                81213   \n",
      "2  Barking & Dagenham  E09000002                51870                52513   \n",
      "3              Barnet  E09000003                98948                98848   \n",
      "4              Bexley  E09000004                64956                64786   \n",
      "\n",
      "                     3                    4                    5  \\\n",
      "0  1995-03-01 00:00:00  1995-04-01 00:00:00  1995-05-01 00:00:00   \n",
      "1                78168                76172                83392   \n",
      "2                52701                54618                54524   \n",
      "3                97848                96273                95737   \n",
      "4                64366                64276                63995   \n",
      "\n",
      "                     6                    7                    8  ...  \\\n",
      "0  1995-06-01 00:00:00  1995-07-01 00:00:00  1995-08-01 00:00:00  ...   \n",
      "1                93757               108801               110976  ...   \n",
      "2                55200                53569                53691  ...   \n",
      "3                95577                96992                97968  ...   \n",
      "4                64251                63721                64431  ...   \n",
      "\n",
      "                   355                  356                  357  \\\n",
      "0  2024-07-01 00:00:00  2024-08-01 00:00:00  2024-09-01 00:00:00   \n",
      "1               782682               765271               763932   \n",
      "2               334357               332915               339472   \n",
      "3               624302               627190               625561   \n",
      "4               399092               404250               406350   \n",
      "\n",
      "                   358                  359                  360  \\\n",
      "0  2024-10-01 00:00:00  2024-11-01 00:00:00  2024-12-01 00:00:00   \n",
      "1               748800               736841               785993   \n",
      "2               349612               354449               355447   \n",
      "3               629238               633595               629215   \n",
      "4               408198               406049               403106   \n",
      "\n",
      "                   361                  362                  363  \\\n",
      "0  2025-01-01 00:00:00  2025-02-01 00:00:00  2025-03-01 00:00:00   \n",
      "1               772480               758503               722024   \n",
      "2               353651               363738               372439   \n",
      "3               615441               607611               605396   \n",
      "4               404307               407169               408404   \n",
      "\n",
      "                   364  \n",
      "0  2025-04-01 00:00:00  \n",
      "1               771818  \n",
      "2               374552  \n",
      "3               598402  \n",
      "4               401907  \n",
      "\n",
      "[5 rows x 366 columns]\n"
     ]
    }
   ],
   "source": [
    "properties_T=properties.T\n",
    "print(properties_T.head())\n",
    "properties_T.index\n",
    "properties_T=properties_T.reset_index()\n",
    "print(properties_T.head())\n",
    "\n",
    "properties_T.columns=properties_T.iloc[0]\n",
    "\n",
    "properties_T=properties_T.drop(0)\n",
    "properties_T.head()\n",
    "properties_T.rename(columns={'Unnamed: 0': 'London_Borough'}, inplace=True)\n"
   ]
  },
  {
   "cell_type": "markdown",
   "metadata": {
    "colab_type": "text",
    "id": "o1uLbJAsoIjK"
   },
   "source": [
    "**2.3. Cleaning the data (part 2)**\n",
    "\n",
    "You might we have to **rename** a couple columns. How do you do this? The clue's pretty bold..."
   ]
  },
  {
   "cell_type": "code",
   "execution_count": 14,
   "metadata": {
    "colab": {},
    "colab_type": "code",
    "id": "GKkmn1AnoVZS"
   },
   "outputs": [
    {
     "data": {
      "text/html": [
       "<div>\n",
       "<style scoped>\n",
       "    .dataframe tbody tr th:only-of-type {\n",
       "        vertical-align: middle;\n",
       "    }\n",
       "\n",
       "    .dataframe tbody tr th {\n",
       "        vertical-align: top;\n",
       "    }\n",
       "\n",
       "    .dataframe thead th {\n",
       "        text-align: right;\n",
       "    }\n",
       "</style>\n",
       "<table border=\"1\" class=\"dataframe\">\n",
       "  <thead>\n",
       "    <tr style=\"text-align: right;\">\n",
       "      <th></th>\n",
       "      <th>London_Borough</th>\n",
       "      <th>ID</th>\n",
       "      <th>1995-01-01 00:00:00</th>\n",
       "      <th>1995-02-01 00:00:00</th>\n",
       "      <th>1995-03-01 00:00:00</th>\n",
       "      <th>1995-04-01 00:00:00</th>\n",
       "      <th>1995-05-01 00:00:00</th>\n",
       "      <th>1995-06-01 00:00:00</th>\n",
       "      <th>1995-07-01 00:00:00</th>\n",
       "      <th>1995-08-01 00:00:00</th>\n",
       "      <th>...</th>\n",
       "      <th>2024-07-01 00:00:00</th>\n",
       "      <th>2024-08-01 00:00:00</th>\n",
       "      <th>2024-09-01 00:00:00</th>\n",
       "      <th>2024-10-01 00:00:00</th>\n",
       "      <th>2024-11-01 00:00:00</th>\n",
       "      <th>2024-12-01 00:00:00</th>\n",
       "      <th>2025-01-01 00:00:00</th>\n",
       "      <th>2025-02-01 00:00:00</th>\n",
       "      <th>2025-03-01 00:00:00</th>\n",
       "      <th>2025-04-01 00:00:00</th>\n",
       "    </tr>\n",
       "  </thead>\n",
       "  <tbody>\n",
       "    <tr>\n",
       "      <th>1</th>\n",
       "      <td>City of London</td>\n",
       "      <td>E09000001</td>\n",
       "      <td>90347</td>\n",
       "      <td>81213</td>\n",
       "      <td>78168</td>\n",
       "      <td>76172</td>\n",
       "      <td>83392</td>\n",
       "      <td>93757</td>\n",
       "      <td>108801</td>\n",
       "      <td>110976</td>\n",
       "      <td>...</td>\n",
       "      <td>782682</td>\n",
       "      <td>765271</td>\n",
       "      <td>763932</td>\n",
       "      <td>748800</td>\n",
       "      <td>736841</td>\n",
       "      <td>785993</td>\n",
       "      <td>772480</td>\n",
       "      <td>758503</td>\n",
       "      <td>722024</td>\n",
       "      <td>771818</td>\n",
       "    </tr>\n",
       "    <tr>\n",
       "      <th>2</th>\n",
       "      <td>Barking &amp; Dagenham</td>\n",
       "      <td>E09000002</td>\n",
       "      <td>51870</td>\n",
       "      <td>52513</td>\n",
       "      <td>52701</td>\n",
       "      <td>54618</td>\n",
       "      <td>54524</td>\n",
       "      <td>55200</td>\n",
       "      <td>53569</td>\n",
       "      <td>53691</td>\n",
       "      <td>...</td>\n",
       "      <td>334357</td>\n",
       "      <td>332915</td>\n",
       "      <td>339472</td>\n",
       "      <td>349612</td>\n",
       "      <td>354449</td>\n",
       "      <td>355447</td>\n",
       "      <td>353651</td>\n",
       "      <td>363738</td>\n",
       "      <td>372439</td>\n",
       "      <td>374552</td>\n",
       "    </tr>\n",
       "    <tr>\n",
       "      <th>3</th>\n",
       "      <td>Barnet</td>\n",
       "      <td>E09000003</td>\n",
       "      <td>98948</td>\n",
       "      <td>98848</td>\n",
       "      <td>97848</td>\n",
       "      <td>96273</td>\n",
       "      <td>95737</td>\n",
       "      <td>95577</td>\n",
       "      <td>96992</td>\n",
       "      <td>97968</td>\n",
       "      <td>...</td>\n",
       "      <td>624302</td>\n",
       "      <td>627190</td>\n",
       "      <td>625561</td>\n",
       "      <td>629238</td>\n",
       "      <td>633595</td>\n",
       "      <td>629215</td>\n",
       "      <td>615441</td>\n",
       "      <td>607611</td>\n",
       "      <td>605396</td>\n",
       "      <td>598402</td>\n",
       "    </tr>\n",
       "    <tr>\n",
       "      <th>4</th>\n",
       "      <td>Bexley</td>\n",
       "      <td>E09000004</td>\n",
       "      <td>64956</td>\n",
       "      <td>64786</td>\n",
       "      <td>64366</td>\n",
       "      <td>64276</td>\n",
       "      <td>63995</td>\n",
       "      <td>64251</td>\n",
       "      <td>63721</td>\n",
       "      <td>64431</td>\n",
       "      <td>...</td>\n",
       "      <td>399092</td>\n",
       "      <td>404250</td>\n",
       "      <td>406350</td>\n",
       "      <td>408198</td>\n",
       "      <td>406049</td>\n",
       "      <td>403106</td>\n",
       "      <td>404307</td>\n",
       "      <td>407169</td>\n",
       "      <td>408404</td>\n",
       "      <td>401907</td>\n",
       "    </tr>\n",
       "    <tr>\n",
       "      <th>5</th>\n",
       "      <td>Brent</td>\n",
       "      <td>E09000005</td>\n",
       "      <td>76880</td>\n",
       "      <td>77651</td>\n",
       "      <td>77644</td>\n",
       "      <td>78668</td>\n",
       "      <td>79464</td>\n",
       "      <td>80118</td>\n",
       "      <td>79920</td>\n",
       "      <td>79295</td>\n",
       "      <td>...</td>\n",
       "      <td>562861</td>\n",
       "      <td>572052</td>\n",
       "      <td>579507</td>\n",
       "      <td>591817</td>\n",
       "      <td>591222</td>\n",
       "      <td>579350</td>\n",
       "      <td>574602</td>\n",
       "      <td>569524</td>\n",
       "      <td>572116</td>\n",
       "      <td>573208</td>\n",
       "    </tr>\n",
       "  </tbody>\n",
       "</table>\n",
       "<p>5 rows × 366 columns</p>\n",
       "</div>"
      ],
      "text/plain": [
       "0      London_Borough         ID 1995-01-01 00:00:00 1995-02-01 00:00:00  \\\n",
       "1      City of London  E09000001               90347               81213   \n",
       "2  Barking & Dagenham  E09000002               51870               52513   \n",
       "3              Barnet  E09000003               98948               98848   \n",
       "4              Bexley  E09000004               64956               64786   \n",
       "5               Brent  E09000005               76880               77651   \n",
       "\n",
       "0 1995-03-01 00:00:00 1995-04-01 00:00:00 1995-05-01 00:00:00  \\\n",
       "1               78168               76172               83392   \n",
       "2               52701               54618               54524   \n",
       "3               97848               96273               95737   \n",
       "4               64366               64276               63995   \n",
       "5               77644               78668               79464   \n",
       "\n",
       "0 1995-06-01 00:00:00 1995-07-01 00:00:00 1995-08-01 00:00:00  ...  \\\n",
       "1               93757              108801              110976  ...   \n",
       "2               55200               53569               53691  ...   \n",
       "3               95577               96992               97968  ...   \n",
       "4               64251               63721               64431  ...   \n",
       "5               80118               79920               79295  ...   \n",
       "\n",
       "0 2024-07-01 00:00:00 2024-08-01 00:00:00 2024-09-01 00:00:00  \\\n",
       "1              782682              765271              763932   \n",
       "2              334357              332915              339472   \n",
       "3              624302              627190              625561   \n",
       "4              399092              404250              406350   \n",
       "5              562861              572052              579507   \n",
       "\n",
       "0 2024-10-01 00:00:00 2024-11-01 00:00:00 2024-12-01 00:00:00  \\\n",
       "1              748800              736841              785993   \n",
       "2              349612              354449              355447   \n",
       "3              629238              633595              629215   \n",
       "4              408198              406049              403106   \n",
       "5              591817              591222              579350   \n",
       "\n",
       "0 2025-01-01 00:00:00 2025-02-01 00:00:00 2025-03-01 00:00:00  \\\n",
       "1              772480              758503              722024   \n",
       "2              353651              363738              372439   \n",
       "3              615441              607611              605396   \n",
       "4              404307              407169              408404   \n",
       "5              574602              569524              572116   \n",
       "\n",
       "0 2025-04-01 00:00:00  \n",
       "1              771818  \n",
       "2              374552  \n",
       "3              598402  \n",
       "4              401907  \n",
       "5              573208  \n",
       "\n",
       "[5 rows x 366 columns]"
      ]
     },
     "execution_count": 14,
     "metadata": {},
     "output_type": "execute_result"
    }
   ],
   "source": [
    "properties_T = properties_T.rename(columns={'Unnamed: 0': 'London_Borough', pd.NaT: 'ID'})\n",
    "\n",
    "properties_T.head()"
   ]
  },
  {
   "cell_type": "markdown",
   "metadata": {
    "colab_type": "text",
    "id": "jy8BzXHmoWEw"
   },
   "source": [
    "**2.4.Transforming the data**\n",
    "\n",
    "Remember what Wes McKinney said about tidy data? \n",
    "\n",
    "You might need to **melt** your DataFrame here. "
   ]
  },
  {
   "cell_type": "code",
   "execution_count": 34,
   "metadata": {
    "colab": {},
    "colab_type": "code",
    "id": "S2wM0qLuo2Zt"
   },
   "outputs": [
    {
     "data": {
      "text/html": [
       "<div>\n",
       "<style scoped>\n",
       "    .dataframe tbody tr th:only-of-type {\n",
       "        vertical-align: middle;\n",
       "    }\n",
       "\n",
       "    .dataframe tbody tr th {\n",
       "        vertical-align: top;\n",
       "    }\n",
       "\n",
       "    .dataframe thead th {\n",
       "        text-align: right;\n",
       "    }\n",
       "</style>\n",
       "<table border=\"1\" class=\"dataframe\">\n",
       "  <thead>\n",
       "    <tr style=\"text-align: right;\">\n",
       "      <th></th>\n",
       "      <th>London_Borough</th>\n",
       "      <th>ID</th>\n",
       "      <th>Month</th>\n",
       "      <th>Average_price</th>\n",
       "    </tr>\n",
       "  </thead>\n",
       "  <tbody>\n",
       "    <tr>\n",
       "      <th>0</th>\n",
       "      <td>City of London</td>\n",
       "      <td>E09000001</td>\n",
       "      <td>1995-01-01 00:00:00</td>\n",
       "      <td>90347</td>\n",
       "    </tr>\n",
       "    <tr>\n",
       "      <th>1</th>\n",
       "      <td>Barking &amp; Dagenham</td>\n",
       "      <td>E09000002</td>\n",
       "      <td>1995-01-01 00:00:00</td>\n",
       "      <td>51870</td>\n",
       "    </tr>\n",
       "    <tr>\n",
       "      <th>2</th>\n",
       "      <td>Barnet</td>\n",
       "      <td>E09000003</td>\n",
       "      <td>1995-01-01 00:00:00</td>\n",
       "      <td>98948</td>\n",
       "    </tr>\n",
       "    <tr>\n",
       "      <th>3</th>\n",
       "      <td>Bexley</td>\n",
       "      <td>E09000004</td>\n",
       "      <td>1995-01-01 00:00:00</td>\n",
       "      <td>64956</td>\n",
       "    </tr>\n",
       "    <tr>\n",
       "      <th>4</th>\n",
       "      <td>Brent</td>\n",
       "      <td>E09000005</td>\n",
       "      <td>1995-01-01 00:00:00</td>\n",
       "      <td>76880</td>\n",
       "    </tr>\n",
       "  </tbody>\n",
       "</table>\n",
       "</div>"
      ],
      "text/plain": [
       "       London_Borough         ID                Month Average_price\n",
       "0      City of London  E09000001  1995-01-01 00:00:00         90347\n",
       "1  Barking & Dagenham  E09000002  1995-01-01 00:00:00         51870\n",
       "2              Barnet  E09000003  1995-01-01 00:00:00         98948\n",
       "3              Bexley  E09000004  1995-01-01 00:00:00         64956\n",
       "4               Brent  E09000005  1995-01-01 00:00:00         76880"
      ]
     },
     "execution_count": 34,
     "metadata": {},
     "output_type": "execute_result"
    }
   ],
   "source": [
    "clean_properties = pd.melt( properties_T, id_vars=['London_Borough', 'ID'])\n",
    "clean_properties.head()\n",
    "clean_properties = clean_properties.rename(columns={0: 'Month', 'value': 'Average_price'})\n",
    "clean_properties.head()\n"
   ]
  },
  {
   "cell_type": "markdown",
   "metadata": {
    "colab_type": "text",
    "id": "7kIsgAo7o3mf"
   },
   "source": [
    "Remember to make sure your column data types are all correct. Average prices, for example, should be floating point numbers... "
   ]
  },
  {
   "cell_type": "code",
   "execution_count": 35,
   "metadata": {
    "colab": {},
    "colab_type": "code",
    "id": "ZcR4IHbcpOaq"
   },
   "outputs": [
    {
     "data": {
      "text/plain": [
       "London_Borough     object\n",
       "ID                 object\n",
       "Month              object\n",
       "Average_price     float64\n",
       "dtype: object"
      ]
     },
     "execution_count": 35,
     "metadata": {},
     "output_type": "execute_result"
    }
   ],
   "source": [
    "clean_properties['Average_price'] = pd.to_numeric(clean_properties['Average_price'])\n",
    "clean_properties.dtypes"
   ]
  },
  {
   "cell_type": "markdown",
   "metadata": {
    "colab_type": "text",
    "id": "knLUXHLypOtw"
   },
   "source": [
    "## **2.5. Cleaning the data (part 3)**\n",
    "\n",
    "Do we have an equal number of observations in the ID, Average Price, Month, and London Borough columns? Remember that there are only 32 London Boroughs. How many entries do you have in that column? \n",
    "\n",
    "Check out the contents of the London Borough column, and if you find null values, get rid of them however you see fit. "
   ]
  },
  {
   "cell_type": "code",
   "execution_count": 46,
   "metadata": {
    "colab": {},
    "colab_type": "code",
    "id": "BnvTW5a3p0fC"
   },
   "outputs": [
    {
     "data": {
      "text/html": [
       "<div>\n",
       "<style scoped>\n",
       "    .dataframe tbody tr th:only-of-type {\n",
       "        vertical-align: middle;\n",
       "    }\n",
       "\n",
       "    .dataframe tbody tr th {\n",
       "        vertical-align: top;\n",
       "    }\n",
       "\n",
       "    .dataframe thead th {\n",
       "        text-align: right;\n",
       "    }\n",
       "</style>\n",
       "<table border=\"1\" class=\"dataframe\">\n",
       "  <thead>\n",
       "    <tr style=\"text-align: right;\">\n",
       "      <th></th>\n",
       "      <th>London_Borough</th>\n",
       "      <th>ID</th>\n",
       "      <th>Month</th>\n",
       "      <th>Average_price</th>\n",
       "    </tr>\n",
       "  </thead>\n",
       "  <tbody>\n",
       "    <tr>\n",
       "      <th>0</th>\n",
       "      <td>City of London</td>\n",
       "      <td>E09000001</td>\n",
       "      <td>1995-01-01 00:00:00</td>\n",
       "      <td>90347.0</td>\n",
       "    </tr>\n",
       "    <tr>\n",
       "      <th>1</th>\n",
       "      <td>Barking &amp; Dagenham</td>\n",
       "      <td>E09000002</td>\n",
       "      <td>1995-01-01 00:00:00</td>\n",
       "      <td>51870.0</td>\n",
       "    </tr>\n",
       "    <tr>\n",
       "      <th>2</th>\n",
       "      <td>Barnet</td>\n",
       "      <td>E09000003</td>\n",
       "      <td>1995-01-01 00:00:00</td>\n",
       "      <td>98948.0</td>\n",
       "    </tr>\n",
       "    <tr>\n",
       "      <th>3</th>\n",
       "      <td>Bexley</td>\n",
       "      <td>E09000004</td>\n",
       "      <td>1995-01-01 00:00:00</td>\n",
       "      <td>64956.0</td>\n",
       "    </tr>\n",
       "    <tr>\n",
       "      <th>4</th>\n",
       "      <td>Brent</td>\n",
       "      <td>E09000005</td>\n",
       "      <td>1995-01-01 00:00:00</td>\n",
       "      <td>76880.0</td>\n",
       "    </tr>\n",
       "  </tbody>\n",
       "</table>\n",
       "</div>"
      ],
      "text/plain": [
       "       London_Borough         ID                Month  Average_price\n",
       "0      City of London  E09000001  1995-01-01 00:00:00        90347.0\n",
       "1  Barking & Dagenham  E09000002  1995-01-01 00:00:00        51870.0\n",
       "2              Barnet  E09000003  1995-01-01 00:00:00        98948.0\n",
       "3              Bexley  E09000004  1995-01-01 00:00:00        64956.0\n",
       "4               Brent  E09000005  1995-01-01 00:00:00        76880.0"
      ]
     },
     "execution_count": 46,
     "metadata": {},
     "output_type": "execute_result"
    }
   ],
   "source": [
    "clean_properties['London_Borough'].unique()\n",
    "clean_properties[clean_properties['London_Borough'] == 'Unnamed: 34'].head()\n",
    "NaNFreeDF = clean_properties.dropna()\n",
    "NaNFreeDF.head(48)\n",
    "NaNFreeDF.count()\n",
    "NaNFreeDF['London_Borough'].unique()\n",
    "nonBoroughs = ['Inner London', 'Outer London', \n",
    "               'NORTH EAST', 'NORTH WEST', 'YORKS & THE HUMBER', \n",
    "               'EAST MIDLANDS', 'WEST MIDLANDS',\n",
    "              'EAST OF ENGLAND', 'LONDON', 'SOUTH EAST', \n",
    "              'SOUTH WEST', 'England']\n",
    "NaNFreeDF[~NaNFreeDF.London_Borough.isin(nonBoroughs)]\n",
    "NaNFreeDF.head()"
   ]
  },
  {
   "cell_type": "markdown",
   "metadata": {
    "colab_type": "text",
    "id": "PGEx6mJsp6dG"
   },
   "source": [
    "**2.6. Visualizing the data**\n",
    "\n",
    "To visualize the data, why not subset on a particular London Borough? Maybe do a line plot of Month against Average Price?"
   ]
  },
  {
   "cell_type": "code",
   "execution_count": 56,
   "metadata": {
    "colab": {},
    "colab_type": "code",
    "id": "nAg5pT9cqHAR"
   },
   "outputs": [
    {
     "name": "stderr",
     "output_type": "stream",
     "text": [
      "C:\\Users\\esref\\anaconda3\\Lib\\site-packages\\pandas\\core\\indexes\\base.py:7588: FutureWarning: Dtype inference on a pandas object (Series, Index, ExtensionArray) is deprecated. The Index constructor will keep the original dtype in the future. Call `infer_objects` on the result to get the old behavior.\n",
      "  return Index(sequences[0], name=names)\n"
     ]
    },
    {
     "data": {
      "image/png": "[encoded data removed]",
      "text/plain": [
       "<Figure size 640x480 with 1 Axes>"
      ]
     },
     "metadata": {},
     "output_type": "display_data"
    }
   ],
   "source": [
    "camden_prices = clean_properties[clean_properties['London_Borough'] == 'Camden']\n",
    "ax = camden_prices.plot(kind='line', x='Month', y='Average_price', title='Camden')\n",
    "\n"
   ]
  },
  {
   "cell_type": "markdown",
   "metadata": {
    "colab_type": "text",
    "id": "aWTPqSJeqHnC"
   },
   "source": [
    "To limit the number of data points you have, you might want to extract the year from every month value your *Month* column. \n",
    "\n",
    "To this end, you *could* apply a ***lambda function***. Your logic could work as follows:\n",
    "1. look through the `Month` column\n",
    "2. extract the year from each individual value in that column \n",
    "3. store that corresponding year as separate column. \n",
    "\n",
    "Whether you go ahead with this is up to you. Just so long as you answer our initial brief: which boroughs of London have seen the greatest house price increase, on average, over the past two decades? "
   ]
  },
  {
   "cell_type": "code",
   "execution_count": 57,
   "metadata": {
    "colab": {},
    "colab_type": "code",
    "id": "e0DF92cyqnu8"
   },
   "outputs": [
    {
     "data": {
      "text/plain": [
       "London_Borough      Year\n",
       "Barking & Dagenham  1995     53265.416667\n",
       "                    1996     53162.666667\n",
       "                    1997     57537.583333\n",
       "                    1998     61969.666667\n",
       "                    1999     67145.333333\n",
       "                                ...      \n",
       "YORKS & THE HUMBER  2021    175033.833333\n",
       "                    2022    191155.833333\n",
       "                    2023    192742.500000\n",
       "                    2024    197346.083333\n",
       "                    2025    205141.250000\n",
       "Name: Average_price, Length: 1488, dtype: float64"
      ]
     },
     "execution_count": 57,
     "metadata": {},
     "output_type": "execute_result"
    }
   ],
   "source": [
    "clean_properties['Year'] = clean_properties['Month'].apply(lambda x: x.year)\n",
    "clean_properties[['Month', 'Year']].head()\n",
    "clean_properties.groupby(['London_Borough', 'Year'])['Average_price'].mean()\n"
   ]
  },
  {
   "cell_type": "markdown",
   "metadata": {
    "colab_type": "text",
    "id": "2knuTxAEqoJ4"
   },
   "source": [
    "**3. Modeling**\n",
    "\n",
    "Consider creating a function that will calculate a ratio of house prices, comparing the price of a house in 2018 to the price in 1998.\n",
    "\n",
    "Consider calling this function create_price_ratio.\n",
    "\n",
    "You'd want this function to:\n",
    "1. Take a filter of dfg, specifically where this filter constrains the London_Borough, as an argument. For example, one admissible argument should be: dfg[dfg['London_Borough']=='Camden'].\n",
    "2. Get the Average Price for that Borough, for the years 1998 and 2018.\n",
    "4. Calculate the ratio of the Average Price for 1998 divided by the Average Price for 2018.\n",
    "5. Return that ratio.\n",
    "\n",
    "Once you've written this function, you ultimately want to use it to iterate through all the unique London_Boroughs and work out the ratio capturing the difference of house prices between 1998 and 2018.\n",
    "\n",
    "Bear in mind: you don't have to write a function like this if you don't want to. If you can solve the brief otherwise, then great! \n",
    "\n",
    "***Hint***: This section should test the skills you acquired in:\n",
    "- Python Data Science Toolbox - Part One, all modules"
   ]
  },
  {
   "cell_type": "code",
   "execution_count": 65,
   "metadata": {
    "colab": {},
    "colab_type": "code",
    "id": "cKTyr437UgDa"
   },
   "outputs": [
    {
     "name": "stdout",
     "output_type": "stream",
     "text": [
      "Camden 2018/1998 ratio: 4.934042636046768\n",
      "{'Barking & Dagenham': 4.896419753750491, 'Barnet': 4.357781583136056, 'Bexley': 4.249831017882133, 'Brent': 4.895458676582117, 'Bromley': 4.094844535695022, 'Camden': 4.934042636046768, 'City of London': 5.302624411390646, 'Croydon': 4.200990306743318, 'EAST MIDLANDS': 3.6326728817070646, 'EAST OF ENGLAND': 4.167245875777463, 'Ealing': 4.311774701171111, 'Enfield': 4.262742326434982, 'England': 3.8104305476627767, 'Greenwich': 4.763570367287282, 'Hackney': 6.198333689539375, 'Hammersmith & Fulham': 4.138940818546001, 'Haringey': 5.134551273214393, 'Harrow': 4.059150558219601, 'Havering': 4.325868090043559, 'Hillingdon': 4.200285475242334, 'Hounslow': 3.9770769170792564, 'Inner London': 5.170823706146975, 'Islington': 4.841875765516273, 'Kensington & Chelsea': 5.0821736365191414, 'Kingston upon Thames': 4.270039865280501, 'LONDON': 4.679676744083221, 'Lambeth': 4.958197908650582, 'Lewisham': 5.447926380342587, 'Merton': 4.745154894743145, 'NORTH EAST': 2.8278925876471135, 'NORTH WEST': 3.3633303339463603, 'Newham': 5.307659578480389, 'Outer London': 4.4190702171678575, 'Redbridge': 4.470182934491858, 'Richmond upon Thames': 4.002758912594101, 'SOUTH EAST': 3.828575204993269, 'SOUTH WEST': 3.7953703119223037, 'Southwark': 5.5163703746415, 'Sutton': 4.118878183094154, 'Tower Hamlets': 4.626734128145344, 'Unnamed: 34': nan, 'Unnamed: 37': nan, 'Unnamed: 47': nan, 'WEST MIDLANDS': 3.4105255271097006, 'Waltham Forest': 5.83512835384709, 'Wandsworth': 4.757573563736319, 'Westminster': 5.352730990446882, 'YORKS & THE HUMBER': 3.355907138504526}\n",
      "                 Borough  2018/1998 Price Ratio\n",
      "14               Hackney               6.198334\n",
      "44        Waltham Forest               5.835128\n",
      "37             Southwark               5.516370\n",
      "27              Lewisham               5.447926\n",
      "46           Westminster               5.352731\n",
      "31                Newham               5.307660\n",
      "6         City of London               5.302624\n",
      "21          Inner London               5.170824\n",
      "16              Haringey               5.134551\n",
      "23  Kensington & Chelsea               5.082174\n",
      "26               Lambeth               4.958198\n",
      "5                 Camden               4.934043\n",
      "0     Barking & Dagenham               4.896420\n",
      "3                  Brent               4.895459\n",
      "22             Islington               4.841876\n",
      "13             Greenwich               4.763570\n",
      "45            Wandsworth               4.757574\n",
      "28                Merton               4.745155\n",
      "25                LONDON               4.679677\n",
      "39         Tower Hamlets               4.626734\n",
      "33             Redbridge               4.470183\n",
      "32          Outer London               4.419070\n",
      "1                 Barnet               4.357782\n",
      "18              Havering               4.325868\n",
      "10                Ealing               4.311775\n",
      "24  Kingston upon Thames               4.270040\n",
      "11               Enfield               4.262742\n",
      "2                 Bexley               4.249831\n",
      "7                Croydon               4.200990\n",
      "19            Hillingdon               4.200285\n",
      "9        EAST OF ENGLAND               4.167246\n",
      "15  Hammersmith & Fulham               4.138941\n",
      "38                Sutton               4.118878\n",
      "4                Bromley               4.094845\n",
      "17                Harrow               4.059151\n",
      "34  Richmond upon Thames               4.002759\n",
      "20              Hounslow               3.977077\n",
      "35            SOUTH EAST               3.828575\n",
      "12               England               3.810431\n",
      "36            SOUTH WEST               3.795370\n",
      "8          EAST MIDLANDS               3.632673\n",
      "43         WEST MIDLANDS               3.410526\n",
      "30            NORTH WEST               3.363330\n",
      "47    YORKS & THE HUMBER               3.355907\n",
      "29            NORTH EAST               2.827893\n"
     ]
    }
   ],
   "source": [
    "dfg = clean_properties.groupby(['London_Borough', 'Year'])['Average_price'].mean().reset_index()\n",
    "camden_df = dfg[dfg['London_Borough'] == 'Camden']\n",
    "\n",
    "def create_price_ratio(borough_df):\n",
    "    try:\n",
    "        price98=float(borough_df[borough_df['Year'] == 1998]['Average_price'].values[0])\n",
    "        price18=float(borough_df[borough_df['Year'] == 2018]['Average_price'].values[0])\n",
    "        r= price18/price98\n",
    "        return r\n",
    "    except IndexError:\n",
    "        return None\n",
    "\n",
    "camden_ratio = create_price_ratio(camden_df)\n",
    "print(\"Camden 2018/1998 ratio:\", camden_ratio)\n",
    "ratios = {}\n",
    "\n",
    "for borough in dfg['London_Borough'].unique():\n",
    "    borough_df = dfg[dfg['London_Borough'] == borough]\n",
    "    ratios[borough] = create_price_ratio(borough_df)\n",
    "\n",
    "print(ratios)\n",
    "df_ratios = pd.DataFrame(list(ratios.items()), columns=['Borough', '2018/1998 Price Ratio'])\n",
    "\n",
    "df_ratios = pd.DataFrame(list(ratios.items()), columns=['Borough', '2018/1998 Price Ratio'])\n",
    "df_ratios = df_ratios.dropna()\n",
    "df_ratios = df_ratios.sort_values(by='2018/1998 Price Ratio', ascending=False)\n",
    "print(df_ratios)\n"
   ]
  },
  {
   "cell_type": "markdown",
   "metadata": {},
   "source": []
  },
  {
   "cell_type": "markdown",
   "metadata": {
    "colab_type": "text",
    "id": "NzYUI7FxJpgv"
   },
   "source": [
    "### 4. Conclusion\n",
    "What can you conclude? Type out your conclusion below. \n",
    "\n",
    "\n",
    "In this project, we analyzed how average house prices changed in different London boroughs over the last two decades. Here are the main findings:\n",
    "\n",
    "The boroughs with the greatest increase in house prices (by ratio) were Hackney, Waltham Forest, Barking & Dagenham, Lewisham, and Southwark. These areas, which were historically less expensive, saw the fastest growth in prices.\n",
    "\n",
    "More central and already expensive areas (like Kensington & Chelsea) continued to rise in price, but their percentage increase was smaller compared to boroughs that started off cheaper.\n",
    "\n",
    "The results suggest a trend where previously less popular and more affordable neighborhoods have experienced the most rapid growth—likely due to factors such as gentrification and regeneration.\n",
    "\n",
    "Overall, most London boroughs saw house prices increase by 4 to 6 times from 1998 to 2018.\n",
    "\n",
    "The process also showed that real-world data is rarely tidy, and data cleaning is just as important as the analysis itself.\n",
    "\n",
    "Summary:\n",
    "The biggest proportional house price increases were seen in boroughs like Hackney and Waltham Forest.\n",
    "\n",
    "These trends reflect broader economic and social changes across London.\n",
    "\n"
   ]
  }
 ],
 "metadata": {
  "colab": {
   "collapsed_sections": [],
   "name": "Springboard Data Science Career Track Unit 4 Challenge - Tier 3 Complete .ipynb",
   "provenance": []
  },
  "kernelspec": {
   "display_name": "Python 3 (ipykernel)",
   "language": "python",
   "name": "python3"
  },
  "language_info": {
   "codemirror_mode": {
    "name": "ipython",
    "version": 3
   },
   "file_extension": ".py",
   "mimetype": "text/x-python",
   "name": "python",
   "nbconvert_exporter": "python",
   "pygments_lexer": "ipython3",
   "version": "3.12.3"
  }
 },
 "nbformat": 4,
 "nbformat_minor": 4
}
